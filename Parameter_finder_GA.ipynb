{
  "nbformat": 4,
  "nbformat_minor": 0,
  "metadata": {
    "colab": {
      "name": "Parameter_finder_GA.ipynb",
      "version": "0.3.2",
      "provenance": [],
      "collapsed_sections": [],
      "include_colab_link": true
    },
    "kernelspec": {
      "name": "python3",
      "display_name": "Python 3"
    }
  },
  "cells": [
    {
      "cell_type": "markdown",
      "metadata": {
        "id": "view-in-github",
        "colab_type": "text"
      },
      "source": [
        "<a href=\"https://colab.research.google.com/github/murtazav/Model_predictive_control/blob/master/Parameter_finder_GA.ipynb\" target=\"_parent\"><img src=\"https://colab.research.google.com/assets/colab-badge.svg\" alt=\"Open In Colab\"/></a>"
      ]
    },
    {
      "cell_type": "code",
      "metadata": {
        "id": "SB8oQAxjaceP",
        "colab_type": "code",
        "colab": {}
      },
      "source": [
        "# best controller parameterfinder using genetic algorithm\n",
        "import numpy as np\n",
        "import random\n",
        "from matplotlib import pyplot as plt\n",
        "\n",
        "kp_arr = np.zeros(8)\n",
        "ki_arr = np.zeros(8)\n",
        "fit_arr = np.zeros(8)\n",
        "kp_max = 100.0\n",
        "kp_min = 0.0\n",
        "ki_max = 100.0\n",
        "ki_min = 0.0\n",
        "itr = 20\n",
        "\n"
      ],
      "execution_count": 0,
      "outputs": []
    },
    {
      "cell_type": "code",
      "metadata": {
        "id": "pFGZbOeGqxIl",
        "colab_type": "code",
        "colab": {}
      },
      "source": [
        "#environment with bicycle model which returns fitness of a controller\n",
        "def envm(kp, ki):\n",
        "  mfl=158  # mass at front left wheel\n",
        "  mfr=137  # mass at front right wheel\n",
        "  mrl=360  # mass at rear left wheel\n",
        "  mrr=269  # mass at front right wh\n",
        "\n",
        "  m = 924  #mass of the vehicle\n",
        "\n",
        "  lf= 1.31  # location of centre of gravity from the front axle\n",
        "  lr=0.62   # location of centre of gravity from the rear axle\n",
        "  Iz=748    # moment of inertia\n",
        "  l=lf+lr\n",
        "\n",
        "  V=1\n",
        "  #cornering stiffness of tyre\n",
        "  Cf=27359\n",
        "  Cr=58535\n",
        "  dt=0.001\n",
        "  tf=10\n",
        "  vy = np.zeros(15000)\n",
        "  vy_dot = np.zeros(15000)\n",
        "  delt_4 = np.zeros(15000) \n",
        "  theta_dot = np.zeros(15000)\n",
        "  theta_4 = np.zeros(15000)\n",
        "  theta_des = np.zeros(15000)\n",
        "  theta_ddot = np.zeros(15000)\n",
        "  e = np.zeros(15000)\n",
        "  e_int = np.zeros(15000)\n",
        "  fitness =0\n",
        "  time = np.zeros(15000)\n",
        "  for i in range(1,len(time)):\n",
        "    time[i] = time[i-1]+dt\n",
        "  i=1\n",
        "  for t in time[0:10000]:\n",
        "    if i>=1000:\n",
        "      theta_des[i]=0.349\n",
        "\n",
        "    e[i] = (theta_des[i]-theta_4[i-1])\n",
        "    fitness = fitness - np.power(t,2)*np.absolute(e[i])*dt\n",
        "    e_int[i] = e_int[i-1]+e[i]*0.001\n",
        "    delt_4[i]=kp*e[i]+ki*e_int[i]\n",
        "\n",
        "    vy_dot[i]=-V*theta_dot[i-1]+1/m*(Cr*(-np.arctan((vy[i-1]-lr*theta_dot[i-1])/V))+Cf*(delt_4[i]-np.arctan((vy[i-1]+lf*theta_dot[i-1])/V))*np.cos(delt_4[i]))\n",
        "    theta_ddot[i]=1/Iz*(Cr*lr*(-np.arctan((vy[i-1]-lr*theta_dot[i-1])/V))+Cf*(delt_4[i]-np.arctan((vy[i-1]+lf*theta_dot[i-1])/V))*np.cos(delt_4[i])*lf)\n",
        "\n",
        "    theta_dot[i] = theta_ddot[i]*dt +theta_dot[i-1]\n",
        "    theta_4[i] = theta_dot[i]*dt+theta_4[i-1]\n",
        "    vy[i] = vy_dot[i]*dt+vy[i-1]\n",
        "    i = i+1\n",
        "    #print(fitness)\n",
        "  plt.plot(time[0:10000],theta_4[0:10000])\n",
        "  plt.plot(time[0:10000],theta_des[0:10000])\n",
        "  \n",
        "  return fitness\n",
        "\n"
      ],
      "execution_count": 0,
      "outputs": []
    },
    {
      "cell_type": "code",
      "metadata": {
        "id": "UisbB0l5BcH-",
        "colab_type": "code",
        "colab": {
          "base_uri": "https://localhost:8080/",
          "height": 287
        },
        "outputId": "48d628f0-20f4-4c86-9d8f-66586cb0c98c"
      },
      "source": [
        "envm(1.7,0)"
      ],
      "execution_count": 3,
      "outputs": [
        {
          "output_type": "execute_result",
          "data": {
            "text/plain": [
              "-1.9976333866589142"
            ]
          },
          "metadata": {
            "tags": []
          },
          "execution_count": 3
        },
        {
          "output_type": "display_data",
          "data": {
            "image/png": "[encoded data removed]",
            "text/plain": [
              "<Figure size 432x288 with 1 Axes>"
            ]
          },
          "metadata": {
            "tags": []
          }
        }
      ]
    },
    {
      "cell_type": "code",
      "metadata": {
        "id": "aRBkWElqBRAx",
        "colab_type": "code",
        "colab": {}
      },
      "source": [
        "# to randomly generate a contorller within the range\n",
        "def random_birth(kp_arr, ki_arr):\n",
        "  for i in range(8):\n",
        "    kp_arr[i] = random.uniform(kp_min, kp_max)\n",
        "    ki_arr[i]= random.uniform(ki_max, kp_min)\n",
        "  return kp_arr, ki_arr\n",
        "\n",
        "# to generate offspring from the best parents with added mutation\n",
        "def offspring(kp_mean, kp_std, ki_mean, ki_std):\n",
        "  kp = random.random()*kp_mean +kp_std\n",
        "  ki = random.random()*ki_mean + ki_std\n",
        "\n",
        "  #mutation \n",
        "  if random.random() < 0.1 :\n",
        "    kp = kp + random.choice([1,-1])*0.01*(random.random()*kp_mean+kp_std)\n",
        "    ki = ki + random.choice([1,-1])*0.01*(random.random()*ki_mean+ki_std)\n",
        "  return kp, ki\n",
        "\t\n",
        "\n"
      ],
      "execution_count": 0,
      "outputs": []
    },
    {
      "cell_type": "code",
      "metadata": {
        "id": "k12XQgZAJzpa",
        "colab_type": "code",
        "colab": {}
      },
      "source": [
        "# to iteratively create and delete generations to reach the generaton with best fitness score\n",
        "def iterations(kp_arr, ki_arr, fit_arr):\n",
        "  for i in range(itr):\n",
        "    for j in range(8):\n",
        "      fit_arr[j] = envm(kp_arr[j], ki_arr[j])\n",
        "\n",
        "    # sort remove the 4 controllers with worst fitness\n",
        "    sorted_index = np.argsort(fit_arr)\n",
        "    kp_arr = kp_arr[sorted_index]\n",
        "    ki_arr = ki_arr[sorted_index]\n",
        "    fit_arr = fit_arr[sorted_index]\n",
        "    print(str(kp_arr[-1])+'  '+str(ki_arr[-1])+'  '+str(fit_arr[-1]))\n",
        "    # generate offsprings with the best four controllers\n",
        "\n",
        "    kp_mean = np.mean(kp_arr[4:8])\n",
        "    kp_std = np.std(kp_arr[4:8])\n",
        "    ki_mean = np.mean(ki_arr[4:8])\n",
        "    ki_std = np.std(ki_arr[4:8])\n",
        "    for j in range(4):\n",
        "      kp_arr[j], ki_arr[j] = offspring(kp_mean, kp_std, ki_mean, ki_std)\n",
        "    \n",
        "  return kp_arr, ki_arr, fit_arr"
      ],
      "execution_count": 0,
      "outputs": []
    },
    {
      "cell_type": "code",
      "metadata": {
        "id": "8yeWQOefVFps",
        "colab_type": "code",
        "colab": {
          "base_uri": "https://localhost:8080/",
          "height": 35
        },
        "outputId": "34cf47b2-e913-4129-e130-53927344a5cb"
      },
      "source": [
        "a=np.array([1,33,455,67,0,8])\n",
        "a[np.argsort(a)]"
      ],
      "execution_count": 6,
      "outputs": [
        {
          "output_type": "execute_result",
          "data": {
            "text/plain": [
              "array([  0,   1,   8,  33,  67, 455])"
            ]
          },
          "metadata": {
            "tags": []
          },
          "execution_count": 6
        }
      ]
    },
    {
      "cell_type": "code",
      "metadata": {
        "id": "-kJBViq4J5Cu",
        "colab_type": "code",
        "colab": {}
      },
      "source": [
        "kp_arr, ki_arr = random_birth(kp_arr, ki_arr)\n"
      ],
      "execution_count": 0,
      "outputs": []
    },
    {
      "cell_type": "code",
      "metadata": {
        "id": "4p6tF1rSMOcF",
        "colab_type": "code",
        "colab": {
          "base_uri": "https://localhost:8080/",
          "height": 749
        },
        "outputId": "546f5b79-3201-4015-d806-3ee40125cbf3"
      },
      "source": [
        "iterations(kp_arr, ki_arr, fit_arr)"
      ],
      "execution_count": 8,
      "outputs": [
        {
          "output_type": "stream",
          "text": [
            "83.98758300994393  64.41655531938403  -62703211287.67319\n",
            "48.92559236321469  41.37142887000098  -11436271.033928452\n",
            "48.92559236321469  41.37142887000098  -11436271.033928452\n",
            "48.92559236321469  41.37142887000098  -11436271.033928452\n",
            "48.92559236321469  41.37142887000098  -11436271.033928452\n",
            "33.31083955204523  10.73307182283738  -36.483640982627456\n",
            "33.31083955204523  10.73307182283738  -36.483640982627456\n",
            "33.31083955204523  10.73307182283738  -36.483640982627456\n",
            "33.31083955204523  10.73307182283738  -36.483640982627456\n",
            "33.31083955204523  10.73307182283738  -36.483640982627456\n",
            "16.411055037380763  23.042255067983458  -0.2503344871334062\n",
            "16.411055037380763  23.042255067983458  -0.2503344871334062\n",
            "16.411055037380763  23.042255067983458  -0.2503344871334062\n",
            "17.860314019398963  15.881909971174185  -0.09685294584165889\n",
            "17.860314019398963  15.881909971174185  -0.09685294584165889\n",
            "17.860314019398963  15.881909971174185  -0.09685294584165889\n",
            "17.860314019398963  15.881909971174185  -0.09685294584165889\n",
            "17.860314019398963  15.881909971174185  -0.09685294584165889\n",
            "17.904778753579247  16.255388439488183  -0.0912187355226353\n",
            "17.904778753579247  16.255388439488183  -0.0912187355226353\n"
          ],
          "name": "stdout"
        },
        {
          "output_type": "execute_result",
          "data": {
            "text/plain": [
              "(array([ 8.64474861, 13.53928923,  5.87138382, 13.84966621,  9.01231843,\n",
              "        16.41105504, 17.86031402, 17.90477875]),\n",
              " array([19.35945598, 10.58448802, 12.28506387,  3.5164971 , 17.82757712,\n",
              "        23.04225507, 15.88190997, 16.25538844]),\n",
              " array([-1.04669536e+11, -1.12436891e+00, -2.93917701e-01, -2.88895853e-01,\n",
              "        -2.62456416e-01, -2.50334487e-01, -9.68529458e-02, -9.12187355e-02]))"
            ]
          },
          "metadata": {
            "tags": []
          },
          "execution_count": 8
        },
        {
          "output_type": "display_data",
          "data": {
            "image/png": "[encoded data removed]",
            "text/plain": [
              "<Figure size 432x288 with 1 Axes>"
            ]
          },
          "metadata": {
            "tags": []
          }
        }
      ]
    },
    {
      "cell_type": "code",
      "metadata": {
        "id": "3Z2rC2ahMWvg",
        "colab_type": "code",
        "colab": {
          "base_uri": "https://localhost:8080/",
          "height": 287
        },
        "outputId": "52d286ae-11ca-4ccb-d816-4ca095055d0e"
      },
      "source": [
        "envm(17.424, 16.255)"
      ],
      "execution_count": 12,
      "outputs": [
        {
          "output_type": "execute_result",
          "data": {
            "text/plain": [
              "-0.134148811607187"
            ]
          },
          "metadata": {
            "tags": []
          },
          "execution_count": 12
        },
        {
          "output_type": "display_data",
          "data": {
            "image/png": "[encoded data removed]",
            "text/plain": [
              "<Figure size 432x288 with 1 Axes>"
            ]
          },
          "metadata": {
            "tags": []
          }
        }
      ]
    },
    {
      "cell_type": "code",
      "metadata": {
        "id": "8Sa9MW0ZZ2xR",
        "colab_type": "code",
        "colab": {}
      },
      "source": [
        ""
      ],
      "execution_count": 0,
      "outputs": []
    }
  ]
}
