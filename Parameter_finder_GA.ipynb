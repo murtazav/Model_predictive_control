{
  "nbformat": 4,
  "nbformat_minor": 0,
  "metadata": {
    "colab": {
      "name": "Parameter_finder_GA.ipynb",
      "version": "0.3.2",
      "provenance": [],
      "collapsed_sections": [],
      "include_colab_link": true
    },
    "kernelspec": {
      "name": "python3",
      "display_name": "Python 3"
    }
  },
  "cells": [
    {
      "cell_type": "markdown",
      "metadata": {
        "id": "view-in-github",
        "colab_type": "text"
      },
      "source": [
        "<a href=\"https://colab.research.google.com/github/murtazav/Model_predictive_control/blob/master/Parameter_finder_GA.ipynb\" target=\"_parent\"><img src=\"https://colab.research.google.com/assets/colab-badge.svg\" alt=\"Open In Colab\"/></a>"
      ]
    },
    {
      "cell_type": "code",
      "metadata": {
        "id": "SB8oQAxjaceP",
        "colab_type": "code",
        "colab": {}
      },
      "source": [
        "# best controller parameterfinder using genetic algorithm\n",
        "import numpy as np\n",
        "import random\n",
        "from matplotlib import pyplot as plt\n",
        "\n",
        "population = 20\n",
        "kp_arr = np.zeros(population)\n",
        "ki_arr = np.zeros(population)\n",
        "fit_arr = np.zeros(population)\n",
        "kp_max = 100.0\n",
        "kp_min = 0.0\n",
        "ki_max = 100.0\n",
        "ki_min = 0.0\n",
        "itr = 50\n",
        "\n"
      ],
      "execution_count": 0,
      "outputs": []
    },
    {
      "cell_type": "code",
      "metadata": {
        "id": "pFGZbOeGqxIl",
        "colab_type": "code",
        "colab": {}
      },
      "source": [
        "#environment with bicycle model which returns fitness of a controller\n",
        "def envm(kp, ki):\n",
        "  mfl=158  # mass at front left wheel\n",
        "  mfr=137  # mass at front right wheel\n",
        "  mrl=360  # mass at rear left wheel\n",
        "  mrr=269  # mass at front right wh\n",
        "\n",
        "  m = 924  #mass of the vehicle\n",
        "\n",
        "  lf= 1.31  # location of centre of gravity from the front axle\n",
        "  lr=0.62   # location of centre of gravity from the rear axle\n",
        "  Iz=748    # moment of inertia\n",
        "  l=lf+lr\n",
        "\n",
        "  V=1\n",
        "  #cornering stiffness of tyre\n",
        "  Cf=27359\n",
        "  Cr=58535\n",
        "  dt=0.001\n",
        "  tf=10\n",
        "  vy = np.zeros(15000)\n",
        "  vy_dot = np.zeros(15000)\n",
        "  delt_4 = np.zeros(15000) \n",
        "  theta_dot = np.zeros(15000)\n",
        "  theta_4 = np.zeros(15000)\n",
        "  theta_des = np.zeros(15000)\n",
        "  theta_ddot = np.zeros(15000)\n",
        "  e = np.zeros(15000)\n",
        "  e_int = np.zeros(15000)\n",
        "  fitness =0\n",
        "  time = np.zeros(15000)\n",
        "  for i in range(1,len(time)):\n",
        "    time[i] = time[i-1]+dt\n",
        "  i=1\n",
        "  for t in time[0:10000]:\n",
        "    if i>=1000:\n",
        "      theta_des[i]=0.349\n",
        "\n",
        "    e[i] = (theta_des[i]-theta_4[i-1])\n",
        "    fitness = fitness - np.power(t,2)*np.absolute(e[i])*dt\n",
        "    e_int[i] = e_int[i-1]+e[i]*0.001\n",
        "    delt_4[i]=kp*e[i]+ki*e_int[i]\n",
        "\n",
        "    vy_dot[i]=-V*theta_dot[i-1]+1/m*(Cr*(-np.arctan((vy[i-1]-lr*theta_dot[i-1])/V))+Cf*(delt_4[i]-np.arctan((vy[i-1]+lf*theta_dot[i-1])/V))*np.cos(delt_4[i]))\n",
        "    theta_ddot[i]=1/Iz*(Cr*lr*(-np.arctan((vy[i-1]-lr*theta_dot[i-1])/V))+Cf*(delt_4[i]-np.arctan((vy[i-1]+lf*theta_dot[i-1])/V))*np.cos(delt_4[i])*lf)\n",
        "\n",
        "    theta_dot[i] = theta_ddot[i]*dt +theta_dot[i-1]\n",
        "    theta_4[i] = theta_dot[i]*dt+theta_4[i-1]\n",
        "    vy[i] = vy_dot[i]*dt+vy[i-1]\n",
        "    i = i+1 \n",
        "    #print(fitness)\n",
        "  plt.plot(time[0:10000],theta_4[0:10000]*180/np.pi)\n",
        "  plt.plot(time[0:10000],theta_des[0:10000]*180/np.pi)\n",
        "  \n",
        "  plt.plot(time[0:10000],delt_4[0:10000]*180/np.pi)\n",
        "  plt.legend(['heading_angle','desired heading','steering angle'])\n",
        "  plt.xlabel('time in s')\n",
        "  plt.ylabel('Angle in degrees')\n",
        "  # linearly penalizing max steering angle, max overshoot, randomly improving fitness with mean 5 and std 5 to introduce luck in evolution process\n",
        "  fitness = 10*fitness - 50*np.amax(delt_4[0:10000]) -100*(np.amax(theta_4[0:10000])-np.amax(theta_des[0:10000])) + (np.random.randn()*5+5)\n",
        "  return fitness\n",
        "\n"
      ],
      "execution_count": 0,
      "outputs": []
    },
    {
      "cell_type": "code",
      "metadata": {
        "id": "UisbB0l5BcH-",
        "colab_type": "code",
        "outputId": "922d3a91-9796-484d-86f7-2332255c360e",
        "colab": {
          "base_uri": "https://localhost:8080/",
          "height": 287
        }
      },
      "source": [
        "envm(1.7,0.01)"
      ],
      "execution_count": 3,
      "outputs": [
        {
          "output_type": "execute_result",
          "data": {
            "text/plain": [
              "-44.8972128477336"
            ]
          },
          "metadata": {
            "tags": []
          },
          "execution_count": 3
        },
        {
          "output_type": "display_data",
          "data": {
            "image/png": "[encoded data removed]",
            "text/plain": [
              "<Figure size 432x288 with 1 Axes>"
            ]
          },
          "metadata": {
            "tags": []
          }
        }
      ]
    },
    {
      "cell_type": "code",
      "metadata": {
        "id": "aRBkWElqBRAx",
        "colab_type": "code",
        "colab": {}
      },
      "source": [
        "# to randomly generate a contorller within the range\n",
        "def random_birth(kp_arr, ki_arr):\n",
        "  for i in range(population):\n",
        "    kp_arr[i] = random.uniform(kp_min, kp_max)\n",
        "    ki_arr[i]= random.uniform(ki_max, kp_min)\n",
        "  return kp_arr, ki_arr\n",
        "\n",
        "# to generate offspring from the best parents with added mutation\n",
        "def offspring(kp_mean, kp_std, ki_mean, ki_std):\n",
        "  kp = np.absolute(np.random.randn()*kp_mean +kp_std)\n",
        "  ki = np.absolute(np.random.randn()*ki_mean + ki_std)\n",
        "\n",
        "  #mutation \n",
        "  if random.random() < 0.1 :\n",
        "    kp = np.absolute(kp + 0.1*(np.random.randn()*kp_mean+kp_std))\n",
        "    ki = np.absolute(ki + 0.1*(np.random.randn()*ki_mean+ki_std))\n",
        "  return kp, ki\n",
        "\t\n",
        "\n"
      ],
      "execution_count": 0,
      "outputs": []
    },
    {
      "cell_type": "code",
      "metadata": {
        "id": "k12XQgZAJzpa",
        "colab_type": "code",
        "colab": {}
      },
      "source": [
        "# to iteratively create and delete generations to reach the generaton with best fitness score\n",
        "def iterations(kp_arr, ki_arr, fit_arr):\n",
        "  for i in range(itr):\n",
        "    for j in range(population):\n",
        "      fit_arr[j] = envm(kp_arr[j], ki_arr[j])\n",
        "\n",
        "    # sort remove the half controllers with worst fitness\n",
        "    sorted_index = np.argsort(fit_arr)\n",
        "    kp_arr = kp_arr[sorted_index]\n",
        "    ki_arr = ki_arr[sorted_index]\n",
        "    fit_arr = fit_arr[sorted_index]\n",
        "    print(str(kp_arr[-1])+'  '+str(ki_arr[-1])+'  '+str(fit_arr[-1]))\n",
        "    # generate offsprings with the best four controllers\n",
        "\n",
        "    kp_mean = np.average(kp_arr[int(population/2):population])\n",
        "    kp_std = np.std(kp_arr[int(population/2):population])\n",
        "    ki_mean = np.average(ki_arr[int(population/2):population])\n",
        "    ki_std = np.std(ki_arr[int(population/2):population])\n",
        "    for j in range(int(population/2)):\n",
        "      kp_arr[j], ki_arr[j] = offspring(kp_mean, kp_std, ki_mean, ki_std)\n",
        "   \n",
        "  return kp_arr, ki_arr, fit_arr"
      ],
      "execution_count": 0,
      "outputs": []
    },
    {
      "cell_type": "code",
      "metadata": {
        "id": "8yeWQOefVFps",
        "colab_type": "code",
        "outputId": "44546433-b78d-4265-cea5-5661c000eab7",
        "colab": {
          "base_uri": "https://localhost:8080/",
          "height": 35
        }
      },
      "source": [
        "a=np.array([1,33,455,67,0,8])\n",
        "a[np.argsort(a)]"
      ],
      "execution_count": 6,
      "outputs": [
        {
          "output_type": "execute_result",
          "data": {
            "text/plain": [
              "array([  0,   1,   8,  33,  67, 455])"
            ]
          },
          "metadata": {
            "tags": []
          },
          "execution_count": 6
        }
      ]
    },
    {
      "cell_type": "code",
      "metadata": {
        "id": "-kJBViq4J5Cu",
        "colab_type": "code",
        "colab": {}
      },
      "source": [
        "kp_arr, ki_arr = random_birth(kp_arr, ki_arr)\n"
      ],
      "execution_count": 0,
      "outputs": []
    },
    {
      "cell_type": "code",
      "metadata": {
        "id": "4p6tF1rSMOcF",
        "colab_type": "code",
        "outputId": "3621db54-99f2-48ce-d5e5-a67e294a9ba5",
        "colab": {
          "base_uri": "https://localhost:8080/",
          "height": 1422
        }
      },
      "source": [
        "iterations(kp_arr, ki_arr, fit_arr)"
      ],
      "execution_count": 11,
      "outputs": [
        {
          "output_type": "stream",
          "text": [
            "12.65734472764155  10.56366158976607  -397.5202547604484\n",
            "16.353269712106233  85.06874402982606  -298.9246901102163\n",
            "16.353269712106233  85.06874402982606  -293.7510487273651\n",
            "1.021016794251242  0.16244902270978656  -183.88179903304268\n",
            "1.021016794251242  0.16244902270978656  -178.77769617147825\n",
            "1.021016794251242  0.16244902270978656  -171.92656712430536\n",
            "1.021016794251242  0.16244902270978656  -174.76841377289625\n",
            "2.582663640350369  16.955245123992675  -116.1736466292108\n",
            "2.582663640350369  16.955245123992675  -110.97846077448727\n",
            "2.582663640350369  16.955245123992675  -111.47812643140004\n",
            "3.040824477599672  14.182609223555046  -105.88895877682\n",
            "2.111002814016632  7.375403460079987  -88.71616368336139\n",
            "2.111002814016632  7.375403460079987  -85.40617984296124\n",
            "2.111002814016632  7.375403460079987  -84.67126347500688\n",
            "3.4372187970040007  4.676743738930856  -75.7716799380238\n",
            "3.4372187970040007  4.676743738930856  -68.34613062250534\n",
            "3.19993091837277  4.850020675820452  -73.0482101879686\n",
            "3.19993091837277  4.850020675820452  -71.53147640962456\n",
            "2.3832309885469423  4.466986642940794  -67.3512662727152\n",
            "3.19993091837277  4.850020675820452  -65.17986520251154\n",
            "2.834813735997133  2.2193775095440382  -71.85675937393557\n",
            "2.2262408897518484  1.9913689049413197  -70.1685683933867\n",
            "2.834813735997133  2.2193775095440382  -67.1307282097548\n",
            "1.9738169873330342  0.05741037784065761  -63.4148782800995\n",
            "1.9738169873330342  0.05741037784065761  -58.093563759685956\n",
            "2.2262408897518484  1.9913689049413197  -65.93805607952415\n",
            "3.1370537341880076  3.092924786469078  -64.2977349220997\n",
            "1.9738169873330342  0.05741037784065761  -57.358635767658484\n",
            "1.9738169873330342  0.05741037784065761  -56.46002934642429\n",
            "1.9738169873330342  0.05741037784065761  -61.280876262584755\n",
            "2.211302812336552  -0.04940049913938116  -59.55645886406221\n",
            "1.9738169873330342  0.05741037784065761  -62.481209926253584\n",
            "2.3515264324771197  2.6899414155474513  -62.444890201026666\n",
            "1.9738169873330342  0.05741037784065761  -63.341079865050816\n",
            "2.211302812336552  -0.04940049913938116  -62.593000216804185\n",
            "2.211302812336552  -0.04940049913938116  -65.69930372585358\n",
            "2.211302812336552  -0.04940049913938116  -58.840720165898716\n",
            "3.100094550101187  2.79328474953867  -62.10155085453068\n",
            "1.9738169873330342  0.05741037784065761  -52.58460804706324\n",
            "2.211302812336552  -0.04940049913938116  -60.43153492246112\n",
            "1.9738169873330342  0.05741037784065761  -58.017042032953825\n",
            "1.9738169873330342  0.05741037784065761  -56.173932845995616\n",
            "2.6600419608774124  0.0566188816092843  -55.596386290245476\n",
            "1.9738169873330342  0.05741037784065761  -52.14034007816221\n",
            "1.9738169873330342  0.05741037784065761  -51.90706428389106\n",
            "2.211302812336552  -0.04940049913938116  -62.93183153114443\n",
            "2.6600419608774124  0.0566188816092843  -57.624500261036054\n",
            "1.9738169873330342  0.05741037784065761  -59.92423739628562\n",
            "2.6600419608774124  0.0566188816092843  -64.89975781387415\n",
            "2.6600419608774124  0.0566188816092843  -58.62622968528727\n"
          ],
          "name": "stdout"
        },
        {
          "output_type": "execute_result",
          "data": {
            "text/plain": [
              "(array([0.01958531, 1.85968749, 0.22083999, 0.26752454, 1.85259656,\n",
              "        0.33427676, 0.03729085, 0.53865095, 2.71445416, 1.19430442,\n",
              "        2.98312083, 3.40181986, 2.82077566, 2.30260842, 2.90689502,\n",
              "        2.45718795, 2.84578644, 1.97381699, 3.10009455, 2.66004196]),\n",
              " array([3.40843857, 2.29176214, 4.63705571, 4.91467646, 0.8738723 ,\n",
              "        1.39018066, 1.81872286, 2.43514584, 1.62780086, 2.43593983,\n",
              "        1.59252171, 4.57550186, 3.73097147, 3.91717224, 5.31744289,\n",
              "        3.44419341, 3.29692057, 0.05741038, 2.79328475, 0.05661888]),\n",
              " array([-1.96320007e+06, -9.18067630e+02, -5.90966052e+02, -1.70276898e+02,\n",
              "        -1.13494518e+02, -1.00681176e+02, -8.55317022e+01, -8.25185796e+01,\n",
              "        -8.14084882e+01, -7.75154127e+01, -7.73754588e+01, -7.55063109e+01,\n",
              "        -7.34289116e+01, -7.26495095e+01, -6.77488998e+01, -6.53747976e+01,\n",
              "        -6.36225177e+01, -6.07322756e+01, -5.91125895e+01, -5.86262297e+01]))"
            ]
          },
          "metadata": {
            "tags": []
          },
          "execution_count": 11
        },
        {
          "output_type": "display_data",
          "data": {
            "image/png": "[encoded data removed]",
            "text/plain": [
              "<Figure size 432x288 with 1 Axes>"
            ]
          },
          "metadata": {
            "tags": []
          }
        }
      ]
    },
    {
      "cell_type": "code",
      "metadata": {
        "id": "3Z2rC2ahMWvg",
        "colab_type": "code",
        "outputId": "2c6cc9a5-4149-4b5b-99be-ee694d03fbc9",
        "colab": {
          "base_uri": "https://localhost:8080/",
          "height": 302
        }
      },
      "source": [
        "envm(1.97381,0.0574)\n"
      ],
      "execution_count": 22,
      "outputs": [
        {
          "output_type": "execute_result",
          "data": {
            "text/plain": [
              "-65.29305671949302"
            ]
          },
          "metadata": {
            "tags": []
          },
          "execution_count": 22
        },
        {
          "output_type": "display_data",
          "data": {
            "image/png": "[encoded data removed]",
            "text/plain": [
              "<Figure size 432x288 with 1 Axes>"
            ]
          },
          "metadata": {
            "tags": []
          }
        }
      ]
    },
    {
      "cell_type": "code",
      "metadata": {
        "id": "8Sa9MW0ZZ2xR",
        "colab_type": "code",
        "colab": {
          "base_uri": "https://localhost:8080/",
          "height": 302
        },
        "outputId": "740baccc-b386-4122-a25b-3353a439450f"
      },
      "source": [
        "envm(2.66,0.0566)\n"
      ],
      "execution_count": 23,
      "outputs": [
        {
          "output_type": "execute_result",
          "data": {
            "text/plain": [
              "-61.2860194434187"
            ]
          },
          "metadata": {
            "tags": []
          },
          "execution_count": 23
        },
        {
          "output_type": "display_data",
          "data": {
            "image/png": "[encoded data removed]",
            "text/plain": [
              "<Figure size 432x288 with 1 Axes>"
            ]
          },
          "metadata": {
            "tags": []
          }
        }
      ]
    },
    {
      "cell_type": "code",
      "metadata": {
        "id": "H3F8X9dt4oft",
        "colab_type": "code",
        "colab": {
          "base_uri": "https://localhost:8080/",
          "height": 302
        },
        "outputId": "53b4042a-0fb5-4d88-fb20-b6218067dc23"
      },
      "source": [
        "envm(3.1,2.79)"
      ],
      "execution_count": 24,
      "outputs": [
        {
          "output_type": "execute_result",
          "data": {
            "text/plain": [
              "-77.58339488653164"
            ]
          },
          "metadata": {
            "tags": []
          },
          "execution_count": 24
        },
        {
          "output_type": "display_data",
          "data": {
            "image/png": "[encoded data removed]",
            "text/plain": [
              "<Figure size 432x288 with 1 Axes>"
            ]
          },
          "metadata": {
            "tags": []
          }
        }
      ]
    },
    {
      "cell_type": "code",
      "metadata": {
        "id": "gOcXWNzs4zGY",
        "colab_type": "code",
        "colab": {}
      },
      "source": [
        ""
      ],
      "execution_count": 0,
      "outputs": []
    }
  ]
}