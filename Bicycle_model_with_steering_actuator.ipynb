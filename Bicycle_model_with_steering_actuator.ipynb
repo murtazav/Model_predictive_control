{
  "nbformat": 4,
  "nbformat_minor": 0,
  "metadata": {
    "colab": {
      "name": "Bicycle_model_with_steering_actuator.ipynb",
      "version": "0.3.2",
      "provenance": [],
      "collapsed_sections": [],
      "include_colab_link": true
    },
    "kernelspec": {
      "name": "python3",
      "display_name": "Python 3"
    }
  },
  "cells": [
    {
      "cell_type": "markdown",
      "metadata": {
        "id": "view-in-github",
        "colab_type": "text"
      },
      "source": [
        "<a href=\"https://colab.research.google.com/github/murtazav/Model_predictive_control/blob/master/Bicycle_model_with_steering_actuator.ipynb\" target=\"_parent\"><img src=\"https://colab.research.google.com/assets/colab-badge.svg\" alt=\"Open In Colab\"/></a>"
      ]
    },
    {
      "cell_type": "code",
      "metadata": {
        "id": "5iJmBD_HG3Lo",
        "colab_type": "code",
        "colab": {}
      },
      "source": [
        "import numpy as np\n",
        "from matplotlib import pyplot as plt\n",
        "# bicycle model for autonomous ground vehicle\n",
        "# parameters of test vehicle\n",
        "mfl = 158  # mass at front left wheel\n",
        "mfr = 137  # mass at front right wheel\n",
        "mrl = 360  # mass at rear left wheel\n",
        "mrr = 269  # mass at front right wheel\n",
        "\n",
        "m = 924  #total mass\n",
        "lf = 1.31  # location of centre of gravity from the front axle\n",
        "lr = 0.62  # location of centre of gravity from the rear axle\n",
        "Iz = 748  # moment of inertia\n",
        "l = lf + lr\n",
        "e = np.zeros(100000)\n",
        "V = 1\n",
        "\n",
        "# PID controller parameter \n",
        "kp =1.7\n",
        "ki = 0.01\n",
        "kd = 0\n",
        "kp_phi = 0.01\n",
        "\n",
        "\n",
        "# steering parameter\n",
        "R = 0.317\n",
        "L = 0.0000823\n",
        "kt = 0.0302\n",
        "kb = 0.0301\n",
        "b = 0.0028677\n",
        "\n",
        "# cornering stiffness\n",
        "Cf = 27359\n",
        "Cr = 58535\n",
        "dt = 0.001\n",
        "tf = 80\n",
        "t1 = np.zeros(80000)\n",
        "for i in range(1,int(tf/dt)):\n",
        "\tt1[i] = t1[i-1]+dt\n",
        "I = np.zeros(100000)\n",
        "phi_dot = np.zeros(100000)\n",
        "delt = np.zeros(100000)\n",
        "phi = np.zeros(100000)\n",
        "phi_des = np.zeros(100000)\n",
        "ki_phi = 0\n",
        "vy = np.zeros(100000)\n",
        "vy_dot = np.zeros(100000)\n",
        "theta_dot =np.zeros(100000)\n",
        "theta_ddot =np.zeros(100000)\n",
        "theta = np.zeros(100000)\n",
        "theta_des = np.zeros(100000)\n",
        "i=1\n",
        "e_phi = np.zeros(100000)\n",
        "eint_phi = np.zeros(100000)\n",
        "e_int = np.zeros(100000)\n",
        "e_d = np.zeros(100000)\n",
        "e = np.zeros(100000)\n",
        "time = np.zeros(100000)\n",
        "v = np.zeros(100000)\n"
      ],
      "execution_count": 0,
      "outputs": []
    },
    {
      "cell_type": "code",
      "metadata": {
        "id": "MP2DhZDpHj98",
        "colab_type": "code",
        "outputId": "68e76162-a931-4671-8375-7e12a202926b",
        "colab": {
          "base_uri": "https://localhost:8080/",
          "height": 305
        }
      },
      "source": [
        "for t in t1:\n",
        "  time[i] = t\n",
        "  # Theta desired is 20 degrees = 0.349\n",
        "  if i>5000:\n",
        "    theta_des[i] = 0.349\n",
        "  else :\n",
        "    theta_des[i] = 0\n",
        "  e[i] = theta_des[i]-theta[i-1]\n",
        "  e_int[i] = e_int[i-1]+e[i]*0.001\n",
        "  if i>2:\n",
        "    e_d[i] = (theta[i-1]-theta[i-2])/dt\n",
        "  \n",
        "  # steering actuator model\n",
        "  phi_des[i] = kp*e[i]+ki*e_int[i]+kd*e_d[i] \n",
        "  e_phi[i] = phi_des[i]-phi[i-1]\n",
        "  eint_phi[i]=eint_phi[i-1]+dt*e_phi[i]\n",
        "  v[i]=3555*(kp_phi*e_phi[i]+ki_phi*eint_phi[i])\n",
        "  if v[i]>0:\n",
        "    v[i]=20\n",
        "  elif v[i]<0:\n",
        "    v[i]=-20\n",
        "  I[i]=L/R*(v[i]-kb*phi_dot[i-1])-L/(R*np.exp(R*t/L))*(v[i]-kb*phi_dot[i-1])\n",
        "  phi_dot[i]=kt/b*I[i]\n",
        "  phi[i]=phi[i-1]+dt*phi_dot[i]\n",
        "  delt[i]=1/3555*phi[i]*6863.6364\n",
        "  \n",
        "  # Non_linear Bicycle model\n",
        "  vy_dot[i]=-V*theta_dot[i-1]+1/m*(Cr*(-np.arctan((vy[i-1]-lr*theta_dot[i-1])/V))+Cf*(delt[i]-np.arctan((vy[i-1]+lf*theta_dot[i-1])/V))*np.cos(delt[i]))\n",
        "  theta_ddot[i]=1/Iz*(Cr*lr*(-np.arctan((vy[i-1]-lr*theta_dot[i-1])/V))+Cf*(delt[i]-np.arctan((vy[i-1]+lf*theta_dot[i-1])/V))*np.cos(delt[i])*lf)\n",
        "  theta_dot[i]=theta_ddot[i]*dt +theta_dot[i-1]\n",
        "  theta[i]=theta_dot[i]*dt+theta[i-1]\n",
        "  vy[i]=vy_dot[i]*dt+vy[i-1]\n",
        "  i+=1\n",
        "theta_max = max(theta)*180/np.pi\n",
        "plt.plot(time[0:80000],theta_des[0:80000]*180/np.pi)\n",
        "plt.plot(time[0:80000],theta[0:80000]*180/np.pi)\n"
      ],
      "execution_count": 2,
      "outputs": [
        {
          "output_type": "stream",
          "text": [
            "/usr/local/lib/python3.6/dist-packages/ipykernel_launcher.py:22: RuntimeWarning: overflow encountered in exp\n"
          ],
          "name": "stderr"
        },
        {
          "output_type": "execute_result",
          "data": {
            "text/plain": [
              "[<matplotlib.lines.Line2D at 0x7f5cdc9e04e0>]"
            ]
          },
          "metadata": {
            "tags": []
          },
          "execution_count": 2
        },
        {
          "output_type": "display_data",
          "data": {
            "image/png": "[encoded data removed]",
            "text/plain": [
              "<Figure size 432x288 with 1 Axes>"
            ]
          },
          "metadata": {
            "tags": []
          }
        }
      ]
    },
    {
      "cell_type": "code",
      "metadata": {
        "id": "8_ZHE1p8R7r8",
        "colab_type": "code",
        "colab": {
          "base_uri": "https://localhost:8080/",
          "height": 287
        },
        "outputId": "4f5fd877-eb82-4ca2-c57a-ff1c57d5b437"
      },
      "source": [
        "plt.plot(time[0:80000],delt[0:80000]*180/np.pi)"
      ],
      "execution_count": 3,
      "outputs": [
        {
          "output_type": "execute_result",
          "data": {
            "text/plain": [
              "[<matplotlib.lines.Line2D at 0x7f5cd988c128>]"
            ]
          },
          "metadata": {
            "tags": []
          },
          "execution_count": 3
        },
        {
          "output_type": "display_data",
          "data": {
            "image/png": "[encoded data removed]",
            "text/plain": [
              "<Figure size 432x288 with 1 Axes>"
            ]
          },
          "metadata": {
            "tags": []
          }
        }
      ]
    },
    {
      "cell_type": "code",
      "metadata": {
        "id": "8t_s8J0JS-xm",
        "colab_type": "code",
        "colab": {}
      },
      "source": [
        ""
      ],
      "execution_count": 0,
      "outputs": []
    }
  ]
}