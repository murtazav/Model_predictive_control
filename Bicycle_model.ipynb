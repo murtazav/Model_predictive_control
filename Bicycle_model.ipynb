{
  "nbformat": 4,
  "nbformat_minor": 0,
  "metadata": {
    "colab": {
      "name": "Bicycle_model.ipynb",
      "version": "0.3.2",
      "provenance": [],
      "include_colab_link": true
    },
    "kernelspec": {
      "name": "python3",
      "display_name": "Python 3"
    }
  },
  "cells": [
    {
      "cell_type": "markdown",
      "metadata": {
        "id": "view-in-github",
        "colab_type": "text"
      },
      "source": [
        "<a href=\"https://colab.research.google.com/github/murtazav/Model_predictive_control/blob/master/Bicycle_model.ipynb\" target=\"_parent\"><img src=\"https://colab.research.google.com/assets/colab-badge.svg\" alt=\"Open In Colab\"/></a>"
      ]
    },
    {
      "cell_type": "code",
      "metadata": {
        "id": "qLR50s4YoZb8",
        "colab_type": "code",
        "colab": {}
      },
      "source": [
        "import matplotlib.animation as animation\n",
        "import numpy as np\n",
        "from gekko import GEKKO\n"
      ],
      "execution_count": 0,
      "outputs": []
    },
    {
      "cell_type": "code",
      "metadata": {
        "id": "rxs_qESyog_9",
        "colab_type": "code",
        "outputId": "3e1b036e-5faf-43a1-fe5d-1e97bbcafde9",
        "colab": {
          "base_uri": "https://localhost:8080/",
          "height": 383
        }
      },
      "source": [
        "!pip install gekko"
      ],
      "execution_count": 4,
      "outputs": [
        {
          "output_type": "stream",
          "text": [
            "Collecting gekko\n",
            "\u001b[?25l  Downloading https://files.pythonhosted.org/packages/ba/a7/ba0e207b4df5d925c4b45865c49de0c66d6e7709b0d40c886286fbecbe7d/gekko-0.2.1.tar.gz (10.4MB)\n",
            "\u001b[K     |████████████████████████████████| 10.4MB 2.5MB/s \n",
            "\u001b[?25hRequirement already satisfied: flask in /usr/local/lib/python3.6/dist-packages (from gekko) (1.0.3)\n",
            "Collecting flask_cors (from gekko)\n",
            "  Downloading https://files.pythonhosted.org/packages/65/cb/683f71ff8daa3aea0a5cbb276074de39f9ab66d3fbb8ad5efb5bb83e90d2/Flask_Cors-3.0.7-py2.py3-none-any.whl\n",
            "Requirement already satisfied: numpy>=1.8 in /usr/local/lib/python3.6/dist-packages (from gekko) (1.16.3)\n",
            "Requirement already satisfied: Werkzeug>=0.14 in /usr/local/lib/python3.6/dist-packages (from flask->gekko) (0.15.4)\n",
            "Requirement already satisfied: itsdangerous>=0.24 in /usr/local/lib/python3.6/dist-packages (from flask->gekko) (1.1.0)\n",
            "Requirement already satisfied: click>=5.1 in /usr/local/lib/python3.6/dist-packages (from flask->gekko) (7.0)\n",
            "Requirement already satisfied: Jinja2>=2.10 in /usr/local/lib/python3.6/dist-packages (from flask->gekko) (2.10.1)\n",
            "Requirement already satisfied: Six in /usr/local/lib/python3.6/dist-packages (from flask_cors->gekko) (1.12.0)\n",
            "Requirement already satisfied: MarkupSafe>=0.23 in /usr/local/lib/python3.6/dist-packages (from Jinja2>=2.10->flask->gekko) (1.1.1)\n",
            "Building wheels for collected packages: gekko\n",
            "  Building wheel for gekko (setup.py) ... \u001b[?25l\u001b[?25hdone\n",
            "  Stored in directory: /root/.cache/pip/wheels/01/6b/eb/6c632fcb27d36752f74c76b6a5d502eef02d33b9f76659fe2f\n",
            "Successfully built gekko\n",
            "Installing collected packages: flask-cors, gekko\n",
            "Successfully installed flask-cors-3.0.7 gekko-0.2.1\n"
          ],
          "name": "stdout"
        }
      ]
    },
    {
      "cell_type": "code",
      "metadata": {
        "id": "yoqTFeXIon54",
        "colab_type": "code",
        "colab": {}
      },
      "source": [
        "#Defining a model\n",
        "m = GEKKO()\n",
        "\n",
        "#Defining the time, we will go beyond the 6.2s\n",
        "#to check if the objective was achieved\n",
        "n = 75\n",
        "tf = 6.0\n",
        "m.time = np.linspace(0,tf,n)\n",
        "heading_final = 20*np.pi/180\n",
        "\n",
        "\n",
        "#Parameters\n",
        "\n",
        "l = m.Param(value=1.93)\n",
        "w = m.Param(value=0.90)\n",
        "lf = m.Param(value=1.31) \n",
        "lr = m.Param(value=0.62)\n",
        "mfl = m.Param(value=158)\n",
        "mfr = m.Param(value=137)\n",
        "mrl = m.Param(value=360)\n",
        "mrr = m.Param(value=269)\n",
        "Iz = m.Param(value=932.4)\n",
        "Cf = m.Param(value=27359)\n",
        "Cr = m.Param(value=58335)\n",
        "vx = m.Param(value=1)\n",
        "M = mfl + mfr + mrl + mrr\n",
        "#MV\n",
        "delta = m.Var(value=0)"
      ],
      "execution_count": 0,
      "outputs": []
    },
    {
      "cell_type": "code",
      "metadata": {
        "id": "iY0vSIdApUoX",
        "colab_type": "code",
        "colab": {}
      },
      "source": [
        "#State VariablesM\n",
        "r = m.Var(value=0)\n",
        "vy = m.Var(value=0)\n",
        "\n",
        "#Intermediates\n",
        "\n",
        "\n",
        "#Defining the State Space Model\n",
        "m.Equation(vy.dt() == -((Cf+Cr)/(vx*M))*vy - (M*vx +(Cf*lf-Cr*lr)/vx)*r + (Cf/M)*delta)\n",
        "m.Equation(r.dt() == -((Cf*lf-Cr*lr)/(vx*Iz))*vy - ((Cf*(lf**2)+Cr*(lr**2))/(vx*Iz))*r + (Cf*lf/Iz)*delta)\n",
        "\n",
        "#Definine the Objectives\n",
        "#Make all the state variables be zero at endpoints\n",
        "i = heading_final\n",
        "m.fix(vy,i,0.0)\n",
        "m.fix(r,i,0.0)\n",
        "\n"
      ],
      "execution_count": 0,
      "outputs": []
    },
    {
      "cell_type": "code",
      "metadata": {
        "id": "Pj7cqeWPp8s3",
        "colab_type": "code",
        "colab": {}
      },
      "source": [
        ""
      ],
      "execution_count": 0,
      "outputs": []
    }
  ]
}